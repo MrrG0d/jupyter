{
 "cells": [
  {
   "cell_type": "code",
   "execution_count": 7,
   "id": "0c31d96c",
   "metadata": {},
   "outputs": [],
   "source": [
    "import numpy as np\n",
    "import pylab as plt\n",
    "%matplotlib inline\n",
    "import seaborn as sns\n",
    "import scipy.stats as sps\n",
    "import pandas as pd"
   ]
  },
  {
   "cell_type": "markdown",
   "id": "dabb9b8d",
   "metadata": {},
   "source": [
    "# Задание 1"
   ]
  },
  {
   "cell_type": "code",
   "execution_count": 3,
   "id": "e7e13f81",
   "metadata": {},
   "outputs": [],
   "source": [
    "def lkm(x):\n",
    "    x = (31*x+1) % 1000 # 2^32 = 4294967296\n",
    "    return int(x)"
   ]
  },
  {
   "cell_type": "markdown",
   "id": "6fcce19f",
   "metadata": {},
   "source": [
    "# Задание 2"
   ]
  },
  {
   "cell_type": "markdown",
   "id": "59759dea",
   "metadata": {},
   "source": [
    "<img src=\"формула.png\">"
   ]
  },
  {
   "cell_type": "code",
   "execution_count": 4,
   "id": "f1edb21f",
   "metadata": {},
   "outputs": [],
   "source": [
    "def generation_num(arr_num_values):\n",
    "    sales = {}\n",
    "    for i, N in enumerate(arr_num_values):\n",
    "        x = 1\n",
    "        values = []\n",
    "        for _ in range(N):\n",
    "            #result = (0 + (10-0)*lkm())/4294967296\n",
    "            result = lkm(x)/1000\n",
    "            x = lkm(x)\n",
    "            values.append(result)\n",
    "        title_stb = \"Выборка №{}\".format(i+1)\n",
    "        sales[title_stb] = pd.Series(values)\n",
    "    return pd.DataFrame(data=sales)"
   ]
  },
  {
   "cell_type": "code",
   "execution_count": 5,
   "id": "9004c3db",
   "metadata": {},
   "outputs": [],
   "source": [
    "df = generation_num([10])"
   ]
  },
  {
   "cell_type": "code",
   "execution_count": 6,
   "id": "3b15aab2",
   "metadata": {},
   "outputs": [
    {
     "data": {
      "text/html": [
       "<div>\n",
       "<style scoped>\n",
       "    .dataframe tbody tr th:only-of-type {\n",
       "        vertical-align: middle;\n",
       "    }\n",
       "\n",
       "    .dataframe tbody tr th {\n",
       "        vertical-align: top;\n",
       "    }\n",
       "\n",
       "    .dataframe thead th {\n",
       "        text-align: right;\n",
       "    }\n",
       "</style>\n",
       "<table border=\"1\" class=\"dataframe\">\n",
       "  <thead>\n",
       "    <tr style=\"text-align: right;\">\n",
       "      <th></th>\n",
       "      <th>Выборка №1</th>\n",
       "    </tr>\n",
       "  </thead>\n",
       "  <tbody>\n",
       "    <tr>\n",
       "      <th>0</th>\n",
       "      <td>0.032</td>\n",
       "    </tr>\n",
       "    <tr>\n",
       "      <th>1</th>\n",
       "      <td>0.993</td>\n",
       "    </tr>\n",
       "    <tr>\n",
       "      <th>2</th>\n",
       "      <td>0.784</td>\n",
       "    </tr>\n",
       "    <tr>\n",
       "      <th>3</th>\n",
       "      <td>0.305</td>\n",
       "    </tr>\n",
       "    <tr>\n",
       "      <th>4</th>\n",
       "      <td>0.456</td>\n",
       "    </tr>\n",
       "    <tr>\n",
       "      <th>5</th>\n",
       "      <td>0.137</td>\n",
       "    </tr>\n",
       "    <tr>\n",
       "      <th>6</th>\n",
       "      <td>0.248</td>\n",
       "    </tr>\n",
       "    <tr>\n",
       "      <th>7</th>\n",
       "      <td>0.689</td>\n",
       "    </tr>\n",
       "    <tr>\n",
       "      <th>8</th>\n",
       "      <td>0.360</td>\n",
       "    </tr>\n",
       "    <tr>\n",
       "      <th>9</th>\n",
       "      <td>0.161</td>\n",
       "    </tr>\n",
       "  </tbody>\n",
       "</table>\n",
       "</div>"
      ],
      "text/plain": [
       "   Выборка №1\n",
       "0       0.032\n",
       "1       0.993\n",
       "2       0.784\n",
       "3       0.305\n",
       "4       0.456\n",
       "5       0.137\n",
       "6       0.248\n",
       "7       0.689\n",
       "8       0.360\n",
       "9       0.161"
      ]
     },
     "execution_count": 6,
     "metadata": {},
     "output_type": "execute_result"
    }
   ],
   "source": [
    "df"
   ]
  },
  {
   "cell_type": "code",
   "execution_count": 5,
   "id": "fa6491a9",
   "metadata": {},
   "outputs": [
    {
     "data": {
      "text/html": [
       "<div>\n",
       "<style scoped>\n",
       "    .dataframe tbody tr th:only-of-type {\n",
       "        vertical-align: middle;\n",
       "    }\n",
       "\n",
       "    .dataframe tbody tr th {\n",
       "        vertical-align: top;\n",
       "    }\n",
       "\n",
       "    .dataframe thead th {\n",
       "        text-align: right;\n",
       "    }\n",
       "</style>\n",
       "<table border=\"1\" class=\"dataframe\">\n",
       "  <thead>\n",
       "    <tr style=\"text-align: right;\">\n",
       "      <th></th>\n",
       "      <th>Выборка №1</th>\n",
       "      <th>Выборка №2</th>\n",
       "      <th>Выборка №3</th>\n",
       "      <th>Выборка №4</th>\n",
       "    </tr>\n",
       "  </thead>\n",
       "  <tbody>\n",
       "    <tr>\n",
       "      <th>0</th>\n",
       "      <td>0.052842</td>\n",
       "      <td>0.052842</td>\n",
       "      <td>0.052842</td>\n",
       "      <td>0.052842</td>\n",
       "    </tr>\n",
       "    <tr>\n",
       "      <th>1</th>\n",
       "      <td>5.019935</td>\n",
       "      <td>5.019935</td>\n",
       "      <td>5.019935</td>\n",
       "      <td>5.019935</td>\n",
       "    </tr>\n",
       "    <tr>\n",
       "      <th>2</th>\n",
       "      <td>6.675799</td>\n",
       "      <td>6.675799</td>\n",
       "      <td>6.675799</td>\n",
       "      <td>6.675799</td>\n",
       "    </tr>\n",
       "    <tr>\n",
       "      <th>3</th>\n",
       "      <td>0.166437</td>\n",
       "      <td>0.166437</td>\n",
       "      <td>0.166437</td>\n",
       "      <td>0.166437</td>\n",
       "    </tr>\n",
       "    <tr>\n",
       "      <th>4</th>\n",
       "      <td>6.778651</td>\n",
       "      <td>6.778651</td>\n",
       "      <td>6.778651</td>\n",
       "      <td>6.778651</td>\n",
       "    </tr>\n",
       "  </tbody>\n",
       "</table>\n",
       "</div>"
      ],
      "text/plain": [
       "   Выборка №1  Выборка №2  Выборка №3  Выборка №4\n",
       "0    0.052842    0.052842    0.052842    0.052842\n",
       "1    5.019935    5.019935    5.019935    5.019935\n",
       "2    6.675799    6.675799    6.675799    6.675799\n",
       "3    0.166437    0.166437    0.166437    0.166437\n",
       "4    6.778651    6.778651    6.778651    6.778651"
      ]
     },
     "execution_count": 5,
     "metadata": {},
     "output_type": "execute_result"
    }
   ],
   "source": [
    "df.head()"
   ]
  },
  {
   "cell_type": "markdown",
   "id": "dc605428",
   "metadata": {},
   "source": [
    "# Задание 3"
   ]
  },
  {
   "cell_type": "code",
   "execution_count": 6,
   "id": "b187bddc",
   "metadata": {},
   "outputs": [],
   "source": [
    "arr_mean = df.mean()\n",
    "arr_dispersion = df.std()**2\n",
    "theor_mean = (0+10)/2\n",
    "theor_dispersion = (10-0)**2/12"
   ]
  },
  {
   "cell_type": "code",
   "execution_count": 7,
   "id": "17f776ee",
   "metadata": {},
   "outputs": [
    {
     "name": "stdout",
     "output_type": "stream",
     "text": [
      "Математическое ожидание:\n",
      "Выборка №1    4.844687\n",
      "Выборка №2    5.082844\n",
      "Выборка №3    4.997016\n",
      "Выборка №4    4.992300\n",
      "dtype: float64\n",
      "\n",
      "Дисперсия:\n",
      "Выборка №1    8.186038\n",
      "Выборка №2    8.127649\n",
      "Выборка №3    8.308054\n",
      "Выборка №4    8.344334\n",
      "dtype: float64\n"
     ]
    }
   ],
   "source": [
    "print(\"Математическое ожидание:\\n{}\\n\\nДисперсия:\\n{}\".format(arr_mean, arr_dispersion))"
   ]
  },
  {
   "cell_type": "code",
   "execution_count": 8,
   "id": "d8339a0a",
   "metadata": {},
   "outputs": [
    {
     "name": "stdout",
     "output_type": "stream",
     "text": [
      "Математическое ожидание и дисперсия теоретической равномерно распределенной случайной величиной:\n",
      "5.0\n",
      "8.333333333333334\n"
     ]
    }
   ],
   "source": [
    "print(\"Математическое ожидание и дисперсия \\\n",
    "теоретической равномерно распределенной случайной величиной:\\n{}\\n{}\".format(theor_mean, theor_dispersion))"
   ]
  },
  {
   "cell_type": "markdown",
   "id": "6d765a9c",
   "metadata": {},
   "source": [
    "# Задание 4"
   ]
  },
  {
   "cell_type": "code",
   "execution_count": 12,
   "id": "f228efda",
   "metadata": {},
   "outputs": [
    {
     "name": "stdout",
     "output_type": "stream",
     "text": [
      "Период последовательности: 4294967296\n"
     ]
    }
   ],
   "source": [
    "a = lkm(1)\n",
    "x = lkm(1)\n",
    "T = 1\n",
    "while(a != lkm(x)):\n",
    "    x = lkm(x)\n",
    "    T += 1\n",
    "print(\"Период последовательности:\", T)"
   ]
  },
  {
   "cell_type": "markdown",
   "id": "b1d1cd12",
   "metadata": {},
   "source": [
    "# Задание 5"
   ]
  },
  {
   "cell_type": "code",
   "execution_count": 26,
   "id": "648c8b9a",
   "metadata": {},
   "outputs": [],
   "source": [
    "def calc_relativ(sample, bound, N):\n",
    "    sample = sample[(sample > bound[0]) & (sample < bound[1])]\n",
    "    n = int((bound[1]-bound[0])/N)\n",
    "    len_sample = len(sample)\n",
    "    arr_relativ = []\n",
    "    for x in range(bound[0], bound[1], n):\n",
    "        temp = sample[(sample > x) & (sample < x+n)]\n",
    "        arr_relativ.append(len(temp)/len_sample)\n",
    "    return arr_relativ"
   ]
  },
  {
   "cell_type": "markdown",
   "id": "ae3ed123",
   "metadata": {},
   "source": [
    "# Задание 6"
   ]
  },
  {
   "cell_type": "code",
   "execution_count": 27,
   "id": "1a9c094d",
   "metadata": {},
   "outputs": [],
   "source": [
    "sales = {}\n",
    "for i, column in enumerate(df.columns):\n",
    "    sales[column] = pd.Series(calc_relativ(df[column], [0, 10], 10))\n",
    "df_relative = pd.DataFrame(data=sales)"
   ]
  },
  {
   "cell_type": "code",
   "execution_count": 28,
   "id": "b58331e9",
   "metadata": {},
   "outputs": [
    {
     "data": {
      "text/html": [
       "<div>\n",
       "<style scoped>\n",
       "    .dataframe tbody tr th:only-of-type {\n",
       "        vertical-align: middle;\n",
       "    }\n",
       "\n",
       "    .dataframe tbody tr th {\n",
       "        vertical-align: top;\n",
       "    }\n",
       "\n",
       "    .dataframe thead th {\n",
       "        text-align: right;\n",
       "    }\n",
       "</style>\n",
       "<table border=\"1\" class=\"dataframe\">\n",
       "  <thead>\n",
       "    <tr style=\"text-align: right;\">\n",
       "      <th></th>\n",
       "      <th>Выборка №1</th>\n",
       "      <th>Выборка №2</th>\n",
       "      <th>Выборка №3</th>\n",
       "      <th>Выборка №4</th>\n",
       "    </tr>\n",
       "  </thead>\n",
       "  <tbody>\n",
       "    <tr>\n",
       "      <th>0</th>\n",
       "      <td>0.12</td>\n",
       "      <td>0.098</td>\n",
       "      <td>0.1027</td>\n",
       "      <td>0.10094</td>\n",
       "    </tr>\n",
       "    <tr>\n",
       "      <th>1</th>\n",
       "      <td>0.06</td>\n",
       "      <td>0.089</td>\n",
       "      <td>0.0975</td>\n",
       "      <td>0.10038</td>\n",
       "    </tr>\n",
       "    <tr>\n",
       "      <th>2</th>\n",
       "      <td>0.16</td>\n",
       "      <td>0.100</td>\n",
       "      <td>0.0982</td>\n",
       "      <td>0.10086</td>\n",
       "    </tr>\n",
       "    <tr>\n",
       "      <th>3</th>\n",
       "      <td>0.08</td>\n",
       "      <td>0.083</td>\n",
       "      <td>0.0995</td>\n",
       "      <td>0.09881</td>\n",
       "    </tr>\n",
       "    <tr>\n",
       "      <th>4</th>\n",
       "      <td>0.07</td>\n",
       "      <td>0.111</td>\n",
       "      <td>0.0986</td>\n",
       "      <td>0.10002</td>\n",
       "    </tr>\n",
       "    <tr>\n",
       "      <th>5</th>\n",
       "      <td>0.11</td>\n",
       "      <td>0.100</td>\n",
       "      <td>0.1025</td>\n",
       "      <td>0.09878</td>\n",
       "    </tr>\n",
       "    <tr>\n",
       "      <th>6</th>\n",
       "      <td>0.13</td>\n",
       "      <td>0.121</td>\n",
       "      <td>0.1027</td>\n",
       "      <td>0.09941</td>\n",
       "    </tr>\n",
       "    <tr>\n",
       "      <th>7</th>\n",
       "      <td>0.09</td>\n",
       "      <td>0.096</td>\n",
       "      <td>0.0992</td>\n",
       "      <td>0.10056</td>\n",
       "    </tr>\n",
       "    <tr>\n",
       "      <th>8</th>\n",
       "      <td>0.09</td>\n",
       "      <td>0.108</td>\n",
       "      <td>0.1031</td>\n",
       "      <td>0.10233</td>\n",
       "    </tr>\n",
       "    <tr>\n",
       "      <th>9</th>\n",
       "      <td>0.09</td>\n",
       "      <td>0.094</td>\n",
       "      <td>0.0960</td>\n",
       "      <td>0.09791</td>\n",
       "    </tr>\n",
       "  </tbody>\n",
       "</table>\n",
       "</div>"
      ],
      "text/plain": [
       "   Выборка №1  Выборка №2  Выборка №3  Выборка №4\n",
       "0        0.12       0.098      0.1027     0.10094\n",
       "1        0.06       0.089      0.0975     0.10038\n",
       "2        0.16       0.100      0.0982     0.10086\n",
       "3        0.08       0.083      0.0995     0.09881\n",
       "4        0.07       0.111      0.0986     0.10002\n",
       "5        0.11       0.100      0.1025     0.09878\n",
       "6        0.13       0.121      0.1027     0.09941\n",
       "7        0.09       0.096      0.0992     0.10056\n",
       "8        0.09       0.108      0.1031     0.10233\n",
       "9        0.09       0.094      0.0960     0.09791"
      ]
     },
     "execution_count": 28,
     "metadata": {},
     "output_type": "execute_result"
    }
   ],
   "source": [
    "df_relative"
   ]
  },
  {
   "cell_type": "code",
   "execution_count": 29,
   "id": "9059e8ff",
   "metadata": {},
   "outputs": [
    {
     "data": {
      "image/png": "[encoded data removed]",
      "text/plain": [
       "<Figure size 1440x360 with 4 Axes>"
      ]
     },
     "metadata": {
      "needs_background": "light"
     },
     "output_type": "display_data"
    }
   ],
   "source": [
    "_, axes = plt.subplots(1, 4, figsize=(20, 5))\n",
    "for i, column in enumerate(df_relative):\n",
    "    axes[i].bar(df_relative.index, df_relative[column], width=0.5, color='g')\n",
    "    axes[i].set_title(\"Выборка №{}\".format(i+1), fontsize = 20)\n",
    "    axes[i].set_xlabel(\"Номер участка\")\n",
    "    axes[i].set_ylabel(\"Относительная частота\")\n",
    "plt.subplots_adjust(wspace=0.4)"
   ]
  },
  {
   "cell_type": "code",
   "execution_count": 30,
   "id": "20fc7c42",
   "metadata": {},
   "outputs": [],
   "source": [
    "def calc_Pearson(arr_relative, N):\n",
    "    nj = np.array([1/10]*N)\n",
    "    x = np.sum((nj-arr_relative)**2 / arr_relative)\n",
    "    return x"
   ]
  },
  {
   "cell_type": "code",
   "execution_count": 31,
   "id": "bc17bc94",
   "metadata": {},
   "outputs": [],
   "source": [
    "arr_x = [calc_Pearson(df_relative[column], 10) for column in df.columns]"
   ]
  },
  {
   "cell_type": "code",
   "execution_count": 32,
   "id": "37568074",
   "metadata": {},
   "outputs": [
    {
     "name": "stdout",
     "output_type": "stream",
     "text": [
      "Критерий Пирсона для выборки №1: 0.08152264402264404\n",
      "Критерий Пирсона для выборки №2: 0.010759250771098895\n",
      "Критерий Пирсона для выборки №3: 0.0005887585715413947\n",
      "Критерий Пирсона для выборки №4: 0.0001512150421303158\n"
     ]
    }
   ],
   "source": [
    "for i in range(4):\n",
    "    print(\"Критерий Пирсона для выборки №{}:\".format(i+1), arr_x[i])"
   ]
  },
  {
   "cell_type": "markdown",
   "id": "f5c0c85d",
   "metadata": {},
   "source": [
    "# Задание 7"
   ]
  },
  {
   "cell_type": "code",
   "execution_count": 33,
   "id": "f6738fb9",
   "metadata": {},
   "outputs": [],
   "source": [
    "from random import uniform"
   ]
  },
  {
   "cell_type": "code",
   "execution_count": 34,
   "id": "b64ff8aa",
   "metadata": {},
   "outputs": [],
   "source": [
    "sales = {}\n",
    "for i, N in enumerate([10**2, 10**3, 10**4, 10**5]):\n",
    "    values = [uniform(0, 10) for _ in range(N)]\n",
    "    title_stb = \"Выборка №{}\".format(i+1)\n",
    "    sales[title_stb] = pd.Series(values)\n",
    "df = pd.DataFrame(data=sales)"
   ]
  },
  {
   "cell_type": "code",
   "execution_count": 35,
   "id": "760415a8",
   "metadata": {},
   "outputs": [],
   "source": [
    "arr_mean = df.mean()\n",
    "arr_dispersion = df.std()**2\n",
    "theor_mean = (0+10)/2\n",
    "theor_dispersion = (10-0)**2/12"
   ]
  },
  {
   "cell_type": "code",
   "execution_count": 36,
   "id": "6a49c589",
   "metadata": {},
   "outputs": [
    {
     "name": "stdout",
     "output_type": "stream",
     "text": [
      "Математическое ожидание:\n",
      "Выборка №1    4.652934\n",
      "Выборка №2    4.883901\n",
      "Выборка №3    4.986451\n",
      "Выборка №4    4.996911\n",
      "dtype: float64\n",
      "\n",
      "Дисперсия:\n",
      "Выборка №1    8.018618\n",
      "Выборка №2    8.046361\n",
      "Выборка №3    8.312546\n",
      "Выборка №4    8.288257\n",
      "dtype: float64\n"
     ]
    }
   ],
   "source": [
    "print(\"Математическое ожидание:\\n{}\\n\\nДисперсия:\\n{}\".format(arr_mean, arr_dispersion))"
   ]
  },
  {
   "cell_type": "code",
   "execution_count": 37,
   "id": "2f49eeae",
   "metadata": {},
   "outputs": [
    {
     "name": "stdout",
     "output_type": "stream",
     "text": [
      "Математическое ожидание и дисперсия теоретической равномерно распределенной случайной величиной:\n",
      "5.0\n",
      "8.333333333333334\n"
     ]
    }
   ],
   "source": [
    "print(\"Математическое ожидание и дисперсия \\\n",
    "теоретической равномерно распределенной случайной величиной:\\n{}\\n{}\".format(theor_mean, theor_dispersion))"
   ]
  },
  {
   "cell_type": "code",
   "execution_count": 38,
   "id": "64a74378",
   "metadata": {},
   "outputs": [],
   "source": [
    "sales = {}\n",
    "for i, column in enumerate(df.columns):\n",
    "    sales[column] = pd.Series(calc_relativ(df[column], [0, 10], 10))\n",
    "df_relative = pd.DataFrame(data=sales)"
   ]
  },
  {
   "cell_type": "code",
   "execution_count": 39,
   "id": "05ce36b4",
   "metadata": {},
   "outputs": [
    {
     "data": {
      "text/html": [
       "<div>\n",
       "<style scoped>\n",
       "    .dataframe tbody tr th:only-of-type {\n",
       "        vertical-align: middle;\n",
       "    }\n",
       "\n",
       "    .dataframe tbody tr th {\n",
       "        vertical-align: top;\n",
       "    }\n",
       "\n",
       "    .dataframe thead th {\n",
       "        text-align: right;\n",
       "    }\n",
       "</style>\n",
       "<table border=\"1\" class=\"dataframe\">\n",
       "  <thead>\n",
       "    <tr style=\"text-align: right;\">\n",
       "      <th></th>\n",
       "      <th>Выборка №1</th>\n",
       "      <th>Выборка №2</th>\n",
       "      <th>Выборка №3</th>\n",
       "      <th>Выборка №4</th>\n",
       "    </tr>\n",
       "  </thead>\n",
       "  <tbody>\n",
       "    <tr>\n",
       "      <th>0</th>\n",
       "      <td>0.10</td>\n",
       "      <td>0.103</td>\n",
       "      <td>0.1027</td>\n",
       "      <td>0.10053</td>\n",
       "    </tr>\n",
       "    <tr>\n",
       "      <th>1</th>\n",
       "      <td>0.13</td>\n",
       "      <td>0.092</td>\n",
       "      <td>0.0955</td>\n",
       "      <td>0.09828</td>\n",
       "    </tr>\n",
       "    <tr>\n",
       "      <th>2</th>\n",
       "      <td>0.11</td>\n",
       "      <td>0.117</td>\n",
       "      <td>0.1044</td>\n",
       "      <td>0.09983</td>\n",
       "    </tr>\n",
       "    <tr>\n",
       "      <th>3</th>\n",
       "      <td>0.11</td>\n",
       "      <td>0.104</td>\n",
       "      <td>0.0999</td>\n",
       "      <td>0.09993</td>\n",
       "    </tr>\n",
       "    <tr>\n",
       "      <th>4</th>\n",
       "      <td>0.12</td>\n",
       "      <td>0.115</td>\n",
       "      <td>0.0980</td>\n",
       "      <td>0.10162</td>\n",
       "    </tr>\n",
       "    <tr>\n",
       "      <th>5</th>\n",
       "      <td>0.11</td>\n",
       "      <td>0.091</td>\n",
       "      <td>0.1007</td>\n",
       "      <td>0.10194</td>\n",
       "    </tr>\n",
       "    <tr>\n",
       "      <th>6</th>\n",
       "      <td>0.09</td>\n",
       "      <td>0.087</td>\n",
       "      <td>0.1033</td>\n",
       "      <td>0.10050</td>\n",
       "    </tr>\n",
       "    <tr>\n",
       "      <th>7</th>\n",
       "      <td>0.07</td>\n",
       "      <td>0.104</td>\n",
       "      <td>0.0965</td>\n",
       "      <td>0.09854</td>\n",
       "    </tr>\n",
       "    <tr>\n",
       "      <th>8</th>\n",
       "      <td>0.04</td>\n",
       "      <td>0.096</td>\n",
       "      <td>0.1009</td>\n",
       "      <td>0.09972</td>\n",
       "    </tr>\n",
       "    <tr>\n",
       "      <th>9</th>\n",
       "      <td>0.12</td>\n",
       "      <td>0.091</td>\n",
       "      <td>0.0981</td>\n",
       "      <td>0.09911</td>\n",
       "    </tr>\n",
       "  </tbody>\n",
       "</table>\n",
       "</div>"
      ],
      "text/plain": [
       "   Выборка №1  Выборка №2  Выборка №3  Выборка №4\n",
       "0        0.10       0.103      0.1027     0.10053\n",
       "1        0.13       0.092      0.0955     0.09828\n",
       "2        0.11       0.117      0.1044     0.09983\n",
       "3        0.11       0.104      0.0999     0.09993\n",
       "4        0.12       0.115      0.0980     0.10162\n",
       "5        0.11       0.091      0.1007     0.10194\n",
       "6        0.09       0.087      0.1033     0.10050\n",
       "7        0.07       0.104      0.0965     0.09854\n",
       "8        0.04       0.096      0.1009     0.09972\n",
       "9        0.12       0.091      0.0981     0.09911"
      ]
     },
     "execution_count": 39,
     "metadata": {},
     "output_type": "execute_result"
    }
   ],
   "source": [
    "df_relative"
   ]
  },
  {
   "cell_type": "code",
   "execution_count": 40,
   "id": "635cdf67",
   "metadata": {},
   "outputs": [
    {
     "data": {
      "image/png": "[encoded data removed]",
      "text/plain": [
       "<Figure size 1440x360 with 4 Axes>"
      ]
     },
     "metadata": {
      "needs_background": "light"
     },
     "output_type": "display_data"
    }
   ],
   "source": [
    "_, axes = plt.subplots(1, 4, figsize=(20, 5))\n",
    "for i, column in enumerate(df_relative):\n",
    "    axes[i].bar(df_relative.index, df_relative[column], width=0.5, color='g')\n",
    "    axes[i].set_title(\"Выборка №{}\".format(i+1), fontsize = 20)\n",
    "    axes[i].set_xlabel(\"Номер участка\")\n",
    "    axes[i].set_ylabel(\"Относительная частота\")\n",
    "plt.subplots_adjust(wspace=0.4)"
   ]
  },
  {
   "cell_type": "code",
   "execution_count": 41,
   "id": "ccfbc923",
   "metadata": {},
   "outputs": [],
   "source": [
    "arr_x = [calc_Pearson(df_relative[column], 10) for column in df.columns]"
   ]
  },
  {
   "cell_type": "code",
   "execution_count": 42,
   "id": "84fd0e91",
   "metadata": {},
   "outputs": [
    {
     "name": "stdout",
     "output_type": "stream",
     "text": [
      "Критерий Пирсона для выборки №1: 0.12028527028527028\n",
      "Критерий Пирсона для выборки №2: 0.009406745514116592\n",
      "Критерий Пирсона для выборки №3: 0.0007914393533546076\n",
      "Критерий Пирсона для выборки №4: 0.00012887756709708745\n"
     ]
    }
   ],
   "source": [
    "for i in range(4):\n",
    "    print(\"Критерий Пирсона для выборки №{}:\".format(i+1), arr_x[i])"
   ]
  }
 ],
 "metadata": {
  "kernelspec": {
   "display_name": "Python 3",
   "language": "python",
   "name": "python3"
  },
  "language_info": {
   "codemirror_mode": {
    "name": "ipython",
    "version": 3
   },
   "file_extension": ".py",
   "mimetype": "text/x-python",
   "name": "python",
   "nbconvert_exporter": "python",
   "pygments_lexer": "ipython3",
   "version": "3.8.8"
  }
 },
 "nbformat": 4,
 "nbformat_minor": 5
}
