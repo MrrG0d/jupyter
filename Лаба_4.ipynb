{
 "cells": [
  {
   "cell_type": "code",
   "execution_count": 1,
   "id": "8711e5ce",
   "metadata": {},
   "outputs": [],
   "source": [
    "import numpy as np\n",
    "import pylab as plt\n",
    "%matplotlib inline\n",
    "import seaborn as sns\n",
    "import scipy.stats as sps\n",
    "import pandas as pd"
   ]
  },
  {
   "cell_type": "code",
   "execution_count": null,
   "id": "15db5396",
   "metadata": {},
   "outputs": [],
   "source": [
    "def lkm(x):\n",
    "    x = (39*x+1) % 1000\n",
    "    return int(x)"
   ]
  },
  {
   "cell_type": "code",
   "execution_count": null,
   "id": "62ff249d",
   "metadata": {},
   "outputs": [],
   "source": [
    "def generation_num(num_samples, arr_num_values):\n",
    "    sales = {}\n",
    "    for i, N in enumerate(arr_num_values):\n",
    "        x = 1\n",
    "        values = []\n",
    "        for _ in range(N):\n",
    "            #result = (0 + (10-0)*lkm())/4294967296\n",
    "            result = 10*lkm(x)/4294967296\n",
    "            x = lkm(x)\n",
    "            values.append(result)\n",
    "        title_stb = \"Выборка №{}\".format(i+1)\n",
    "        sales[title_stb] = pd.Series(values)\n",
    "    return pd.DataFrame(data=sales)"
   ]
  }
 ],
 "metadata": {
  "kernelspec": {
   "display_name": "Python 3",
   "language": "python",
   "name": "python3"
  },
  "language_info": {
   "codemirror_mode": {
    "name": "ipython",
    "version": 3
   },
   "file_extension": ".py",
   "mimetype": "text/x-python",
   "name": "python",
   "nbconvert_exporter": "python",
   "pygments_lexer": "ipython3",
   "version": "3.8.8"
  }
 },
 "nbformat": 4,
 "nbformat_minor": 5
}
